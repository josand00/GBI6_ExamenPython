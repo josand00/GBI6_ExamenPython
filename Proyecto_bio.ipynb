{
 "cells": [
  {
   "cell_type": "code",
   "execution_count": 15,
   "id": "5dcdf4ca",
   "metadata": {},
   "outputs": [
    {
     "data": {
      "application/vnd.plotly.v1+json": {
       "config": {
        "plotlyServerURL": "https://plot.ly"
       },
       "data": [
        {
         "cells": {
          "values": [
           [
            "Regulador de la respuesta inmune / Inhibidor de la respuesto inflamatoria",
            " Regulador de la respuesta inmune",
            "Modificadores del medio intracelular",
            "Modificadores del medio intracelular",
            "Inhibidores de ARN polimerasa viral",
            "Inhibidores de ARN polimerasa viral"
           ],
           [
            "Tocilizumab",
            "Interferón 1",
            "Cloroquina / hidroxicloroquina",
            "Arbidol",
            "Remdesivir",
            "Ribavirina"
           ],
           [
            "Inmunización pasiva neutralizante",
            "Fosforilación de las transductores de señal y los activadores de la transcripción STAT1 y expresión de ISG",
            "Aumento de pH del endosoma de SARS-CoV-2",
            "Bloqueo de fusión viral por alteración de la proteína S (Spike) del SARS-CoV-2",
            "Análogo del nucleótido que inhibe la ARN polimerasa viral",
            "Análogo de nucleósido que inhibe la ARN polimerasa viral e inhibe la inosina monofosfato deshidrogenasa"
           ],
           [
            "< 30 kg: 12 mg/kg/iv (diluir hasta 50 cc con SSF y administrar en 1 hora). >30 kg: 8 mg/kg/iv (diluir hasta 100 cc SSF y administrar en 1 h).  Dosis máx: 800 mg por infusión",
            "Dosis: 250 microgramos administrados por vía subcutánea cada 48 h durante 14 días. En niños < 12 años: no se ha establecido seguridad y eficacia ; >12 años: para sus indicaciones, igual que en adultos",
            "El fosfato de CQ se administra por vía oral a una dosis de 500 mg (300 mg para CQ, 200 mg para HCQ) para adultos, dos veces/día, durante no más de 10 días",
            "200mg cada 8h",
            "≤ 40 kg dosis de carga 1° día 5mg/kg seguido de 1 dosis de 2,5mg/Kg desde el segundo al décimo día. ≥ 40 kg dosis de carga 1° día 200mg/kg seguido de 1 dosis de 10 mg/kg desde el segundo al décimo día",
            "No especifica dosis"
           ],
           [
            "2019: 1    2020: 787    2021: 840    2022: 354",
            "2020: 426    2021: 773    2022: 43",
            "2020: 1523    2021: 923    2022: 188",
            "2020: 161    2021: 131    2022: 28",
            "2020: 1019    2021: 1417    2022: 731",
            "2019: 3    2020: 170    2021: 136    2022: 38"
           ]
          ]
         },
         "header": {
          "values": [
           "Tipo de fármaco",
           "Fármaco",
           "Acción en la enfermedad COVID -19",
           "Dosis",
           "Referencia (publicaciones)"
          ]
         },
         "type": "table"
        }
       ],
       "layout": {
        "height": 700,
        "margin": {
         "b": 2,
         "l": 2,
         "r": 1,
         "t": 2
        },
        "template": {
         "data": {
          "bar": [
           {
            "error_x": {
             "color": "#2a3f5f"
            },
            "error_y": {
             "color": "#2a3f5f"
            },
            "marker": {
             "line": {
              "color": "#E5ECF6",
              "width": 0.5
             },
             "pattern": {
              "fillmode": "overlay",
              "size": 10,
              "solidity": 0.2
             }
            },
            "type": "bar"
           }
          ],
          "barpolar": [
           {
            "marker": {
             "line": {
              "color": "#E5ECF6",
              "width": 0.5
             },
             "pattern": {
              "fillmode": "overlay",
              "size": 10,
              "solidity": 0.2
             }
            },
            "type": "barpolar"
           }
          ],
          "carpet": [
           {
            "aaxis": {
             "endlinecolor": "#2a3f5f",
             "gridcolor": "white",
             "linecolor": "white",
             "minorgridcolor": "white",
             "startlinecolor": "#2a3f5f"
            },
            "baxis": {
             "endlinecolor": "#2a3f5f",
             "gridcolor": "white",
             "linecolor": "white",
             "minorgridcolor": "white",
             "startlinecolor": "#2a3f5f"
            },
            "type": "carpet"
           }
          ],
          "choropleth": [
           {
            "colorbar": {
             "outlinewidth": 0,
             "ticks": ""
            },
            "type": "choropleth"
           }
          ],
          "contour": [
           {
            "colorbar": {
             "outlinewidth": 0,
             "ticks": ""
            },
            "colorscale": [
             [
              0,
              "#0d0887"
             ],
             [
              0.1111111111111111,
              "#46039f"
             ],
             [
              0.2222222222222222,
              "#7201a8"
             ],
             [
              0.3333333333333333,
              "#9c179e"
             ],
             [
              0.4444444444444444,
              "#bd3786"
             ],
             [
              0.5555555555555556,
              "#d8576b"
             ],
             [
              0.6666666666666666,
              "#ed7953"
             ],
             [
              0.7777777777777778,
              "#fb9f3a"
             ],
             [
              0.8888888888888888,
              "#fdca26"
             ],
             [
              1,
              "#f0f921"
             ]
            ],
            "type": "contour"
           }
          ],
          "contourcarpet": [
           {
            "colorbar": {
             "outlinewidth": 0,
             "ticks": ""
            },
            "type": "contourcarpet"
           }
          ],
          "heatmap": [
           {
            "colorbar": {
             "outlinewidth": 0,
             "ticks": ""
            },
            "colorscale": [
             [
              0,
              "#0d0887"
             ],
             [
              0.1111111111111111,
              "#46039f"
             ],
             [
              0.2222222222222222,
              "#7201a8"
             ],
             [
              0.3333333333333333,
              "#9c179e"
             ],
             [
              0.4444444444444444,
              "#bd3786"
             ],
             [
              0.5555555555555556,
              "#d8576b"
             ],
             [
              0.6666666666666666,
              "#ed7953"
             ],
             [
              0.7777777777777778,
              "#fb9f3a"
             ],
             [
              0.8888888888888888,
              "#fdca26"
             ],
             [
              1,
              "#f0f921"
             ]
            ],
            "type": "heatmap"
           }
          ],
          "heatmapgl": [
           {
            "colorbar": {
             "outlinewidth": 0,
             "ticks": ""
            },
            "colorscale": [
             [
              0,
              "#0d0887"
             ],
             [
              0.1111111111111111,
              "#46039f"
             ],
             [
              0.2222222222222222,
              "#7201a8"
             ],
             [
              0.3333333333333333,
              "#9c179e"
             ],
             [
              0.4444444444444444,
              "#bd3786"
             ],
             [
              0.5555555555555556,
              "#d8576b"
             ],
             [
              0.6666666666666666,
              "#ed7953"
             ],
             [
              0.7777777777777778,
              "#fb9f3a"
             ],
             [
              0.8888888888888888,
              "#fdca26"
             ],
             [
              1,
              "#f0f921"
             ]
            ],
            "type": "heatmapgl"
           }
          ],
          "histogram": [
           {
            "marker": {
             "pattern": {
              "fillmode": "overlay",
              "size": 10,
              "solidity": 0.2
             }
            },
            "type": "histogram"
           }
          ],
          "histogram2d": [
           {
            "colorbar": {
             "outlinewidth": 0,
             "ticks": ""
            },
            "colorscale": [
             [
              0,
              "#0d0887"
             ],
             [
              0.1111111111111111,
              "#46039f"
             ],
             [
              0.2222222222222222,
              "#7201a8"
             ],
             [
              0.3333333333333333,
              "#9c179e"
             ],
             [
              0.4444444444444444,
              "#bd3786"
             ],
             [
              0.5555555555555556,
              "#d8576b"
             ],
             [
              0.6666666666666666,
              "#ed7953"
             ],
             [
              0.7777777777777778,
              "#fb9f3a"
             ],
             [
              0.8888888888888888,
              "#fdca26"
             ],
             [
              1,
              "#f0f921"
             ]
            ],
            "type": "histogram2d"
           }
          ],
          "histogram2dcontour": [
           {
            "colorbar": {
             "outlinewidth": 0,
             "ticks": ""
            },
            "colorscale": [
             [
              0,
              "#0d0887"
             ],
             [
              0.1111111111111111,
              "#46039f"
             ],
             [
              0.2222222222222222,
              "#7201a8"
             ],
             [
              0.3333333333333333,
              "#9c179e"
             ],
             [
              0.4444444444444444,
              "#bd3786"
             ],
             [
              0.5555555555555556,
              "#d8576b"
             ],
             [
              0.6666666666666666,
              "#ed7953"
             ],
             [
              0.7777777777777778,
              "#fb9f3a"
             ],
             [
              0.8888888888888888,
              "#fdca26"
             ],
             [
              1,
              "#f0f921"
             ]
            ],
            "type": "histogram2dcontour"
           }
          ],
          "mesh3d": [
           {
            "colorbar": {
             "outlinewidth": 0,
             "ticks": ""
            },
            "type": "mesh3d"
           }
          ],
          "parcoords": [
           {
            "line": {
             "colorbar": {
              "outlinewidth": 0,
              "ticks": ""
             }
            },
            "type": "parcoords"
           }
          ],
          "pie": [
           {
            "automargin": true,
            "type": "pie"
           }
          ],
          "scatter": [
           {
            "marker": {
             "colorbar": {
              "outlinewidth": 0,
              "ticks": ""
             }
            },
            "type": "scatter"
           }
          ],
          "scatter3d": [
           {
            "line": {
             "colorbar": {
              "outlinewidth": 0,
              "ticks": ""
             }
            },
            "marker": {
             "colorbar": {
              "outlinewidth": 0,
              "ticks": ""
             }
            },
            "type": "scatter3d"
           }
          ],
          "scattercarpet": [
           {
            "marker": {
             "colorbar": {
              "outlinewidth": 0,
              "ticks": ""
             }
            },
            "type": "scattercarpet"
           }
          ],
          "scattergeo": [
           {
            "marker": {
             "colorbar": {
              "outlinewidth": 0,
              "ticks": ""
             }
            },
            "type": "scattergeo"
           }
          ],
          "scattergl": [
           {
            "marker": {
             "colorbar": {
              "outlinewidth": 0,
              "ticks": ""
             }
            },
            "type": "scattergl"
           }
          ],
          "scattermapbox": [
           {
            "marker": {
             "colorbar": {
              "outlinewidth": 0,
              "ticks": ""
             }
            },
            "type": "scattermapbox"
           }
          ],
          "scatterpolar": [
           {
            "marker": {
             "colorbar": {
              "outlinewidth": 0,
              "ticks": ""
             }
            },
            "type": "scatterpolar"
           }
          ],
          "scatterpolargl": [
           {
            "marker": {
             "colorbar": {
              "outlinewidth": 0,
              "ticks": ""
             }
            },
            "type": "scatterpolargl"
           }
          ],
          "scatterternary": [
           {
            "marker": {
             "colorbar": {
              "outlinewidth": 0,
              "ticks": ""
             }
            },
            "type": "scatterternary"
           }
          ],
          "surface": [
           {
            "colorbar": {
             "outlinewidth": 0,
             "ticks": ""
            },
            "colorscale": [
             [
              0,
              "#0d0887"
             ],
             [
              0.1111111111111111,
              "#46039f"
             ],
             [
              0.2222222222222222,
              "#7201a8"
             ],
             [
              0.3333333333333333,
              "#9c179e"
             ],
             [
              0.4444444444444444,
              "#bd3786"
             ],
             [
              0.5555555555555556,
              "#d8576b"
             ],
             [
              0.6666666666666666,
              "#ed7953"
             ],
             [
              0.7777777777777778,
              "#fb9f3a"
             ],
             [
              0.8888888888888888,
              "#fdca26"
             ],
             [
              1,
              "#f0f921"
             ]
            ],
            "type": "surface"
           }
          ],
          "table": [
           {
            "cells": {
             "fill": {
              "color": "#EBF0F8"
             },
             "line": {
              "color": "white"
             }
            },
            "header": {
             "fill": {
              "color": "#C8D4E3"
             },
             "line": {
              "color": "white"
             }
            },
            "type": "table"
           }
          ]
         },
         "layout": {
          "annotationdefaults": {
           "arrowcolor": "#2a3f5f",
           "arrowhead": 0,
           "arrowwidth": 1
          },
          "autotypenumbers": "strict",
          "coloraxis": {
           "colorbar": {
            "outlinewidth": 0,
            "ticks": ""
           }
          },
          "colorscale": {
           "diverging": [
            [
             0,
             "#8e0152"
            ],
            [
             0.1,
             "#c51b7d"
            ],
            [
             0.2,
             "#de77ae"
            ],
            [
             0.3,
             "#f1b6da"
            ],
            [
             0.4,
             "#fde0ef"
            ],
            [
             0.5,
             "#f7f7f7"
            ],
            [
             0.6,
             "#e6f5d0"
            ],
            [
             0.7,
             "#b8e186"
            ],
            [
             0.8,
             "#7fbc41"
            ],
            [
             0.9,
             "#4d9221"
            ],
            [
             1,
             "#276419"
            ]
           ],
           "sequential": [
            [
             0,
             "#0d0887"
            ],
            [
             0.1111111111111111,
             "#46039f"
            ],
            [
             0.2222222222222222,
             "#7201a8"
            ],
            [
             0.3333333333333333,
             "#9c179e"
            ],
            [
             0.4444444444444444,
             "#bd3786"
            ],
            [
             0.5555555555555556,
             "#d8576b"
            ],
            [
             0.6666666666666666,
             "#ed7953"
            ],
            [
             0.7777777777777778,
             "#fb9f3a"
            ],
            [
             0.8888888888888888,
             "#fdca26"
            ],
            [
             1,
             "#f0f921"
            ]
           ],
           "sequentialminus": [
            [
             0,
             "#0d0887"
            ],
            [
             0.1111111111111111,
             "#46039f"
            ],
            [
             0.2222222222222222,
             "#7201a8"
            ],
            [
             0.3333333333333333,
             "#9c179e"
            ],
            [
             0.4444444444444444,
             "#bd3786"
            ],
            [
             0.5555555555555556,
             "#d8576b"
            ],
            [
             0.6666666666666666,
             "#ed7953"
            ],
            [
             0.7777777777777778,
             "#fb9f3a"
            ],
            [
             0.8888888888888888,
             "#fdca26"
            ],
            [
             1,
             "#f0f921"
            ]
           ]
          },
          "colorway": [
           "#636efa",
           "#EF553B",
           "#00cc96",
           "#ab63fa",
           "#FFA15A",
           "#19d3f3",
           "#FF6692",
           "#B6E880",
           "#FF97FF",
           "#FECB52"
          ],
          "font": {
           "color": "#2a3f5f"
          },
          "geo": {
           "bgcolor": "white",
           "lakecolor": "white",
           "landcolor": "#E5ECF6",
           "showlakes": true,
           "showland": true,
           "subunitcolor": "white"
          },
          "hoverlabel": {
           "align": "left"
          },
          "hovermode": "closest",
          "mapbox": {
           "style": "light"
          },
          "paper_bgcolor": "white",
          "plot_bgcolor": "#E5ECF6",
          "polar": {
           "angularaxis": {
            "gridcolor": "white",
            "linecolor": "white",
            "ticks": ""
           },
           "bgcolor": "#E5ECF6",
           "radialaxis": {
            "gridcolor": "white",
            "linecolor": "white",
            "ticks": ""
           }
          },
          "scene": {
           "xaxis": {
            "backgroundcolor": "#E5ECF6",
            "gridcolor": "white",
            "gridwidth": 2,
            "linecolor": "white",
            "showbackground": true,
            "ticks": "",
            "zerolinecolor": "white"
           },
           "yaxis": {
            "backgroundcolor": "#E5ECF6",
            "gridcolor": "white",
            "gridwidth": 2,
            "linecolor": "white",
            "showbackground": true,
            "ticks": "",
            "zerolinecolor": "white"
           },
           "zaxis": {
            "backgroundcolor": "#E5ECF6",
            "gridcolor": "white",
            "gridwidth": 2,
            "linecolor": "white",
            "showbackground": true,
            "ticks": "",
            "zerolinecolor": "white"
           }
          },
          "shapedefaults": {
           "line": {
            "color": "#2a3f5f"
           }
          },
          "ternary": {
           "aaxis": {
            "gridcolor": "white",
            "linecolor": "white",
            "ticks": ""
           },
           "baxis": {
            "gridcolor": "white",
            "linecolor": "white",
            "ticks": ""
           },
           "bgcolor": "#E5ECF6",
           "caxis": {
            "gridcolor": "white",
            "linecolor": "white",
            "ticks": ""
           }
          },
          "title": {
           "x": 0.05
          },
          "xaxis": {
           "automargin": true,
           "gridcolor": "white",
           "linecolor": "white",
           "ticks": "",
           "title": {
            "standoff": 15
           },
           "zerolinecolor": "white",
           "zerolinewidth": 2
          },
          "yaxis": {
           "automargin": true,
           "gridcolor": "white",
           "linecolor": "white",
           "ticks": "",
           "title": {
            "standoff": 15
           },
           "zerolinecolor": "white",
           "zerolinewidth": 2
          }
         }
        },
        "width": 1000
       }
      },
      "text/html": [
       "<div>                            <div id=\"8851be24-792a-47f7-a7af-f7253678c536\" class=\"plotly-graph-div\" style=\"height:700px; width:1000px;\"></div>            <script type=\"text/javascript\">                require([\"plotly\"], function(Plotly) {                    window.PLOTLYENV=window.PLOTLYENV || {};                                    if (document.getElementById(\"8851be24-792a-47f7-a7af-f7253678c536\")) {                    Plotly.newPlot(                        \"8851be24-792a-47f7-a7af-f7253678c536\",                        [{\"cells\":{\"values\":[[\"Regulador de la respuesta inmune / Inhibidor de la respuesto inflamatoria\",\" Regulador de la respuesta inmune\",\"Modificadores del medio intracelular\",\"Modificadores del medio intracelular\",\"Inhibidores de ARN polimerasa viral\",\"Inhibidores de ARN polimerasa viral\"],[\"Tocilizumab\",\"Interfer\\u00f3n 1\",\"Cloroquina / hidroxicloroquina\",\"Arbidol\",\"Remdesivir\",\"Ribavirina\"],[\"Inmunizaci\\u00f3n pasiva neutralizante\",\"Fosforilaci\\u00f3n de las transductores de se\\u00f1al y los activadores de la transcripci\\u00f3n STAT1 y expresi\\u00f3n de ISG\",\"Aumento de pH del endosoma de SARS-CoV-2\",\"Bloqueo de fusi\\u00f3n viral por alteraci\\u00f3n de la prote\\u00edna S (Spike) del SARS-CoV-2\",\"An\\u00e1logo del nucle\\u00f3tido que inhibe la ARN polimerasa viral\",\"An\\u00e1logo de nucle\\u00f3sido que inhibe la ARN polimerasa viral e inhibe la inosina monofosfato deshidrogenasa\"],[\"< 30 kg: 12 mg/kg/iv (diluir hasta 50 cc con SSF y administrar en 1 hora). >30 kg: 8 mg/kg/iv (diluir hasta 100 cc SSF y administrar en 1 h).  Dosis m\\u00e1x: 800 mg por infusi\\u00f3n\",\"Dosis: 250 microgramos administrados por v\\u00eda subcut\\u00e1nea cada 48 h durante 14 d\\u00edas. En ni\\u00f1os < 12 a\\u00f1os: no se ha establecido seguridad y eficacia ; >12 a\\u00f1os: para sus indicaciones, igual que en adultos\",\"El fosfato de CQ se administra por v\\u00eda oral a una dosis de 500 mg (300 mg para CQ, 200 mg para HCQ) para adultos, dos veces/d\\u00eda, durante no m\\u00e1s de 10 d\\u00edas\",\"200mg cada 8h\",\"\\u2264 40 kg dosis de carga 1\\u00b0 d\\u00eda 5mg/kg seguido de 1 dosis de 2,5mg/Kg desde el segundo al d\\u00e9cimo d\\u00eda. \\u2265 40 kg dosis de carga 1\\u00b0 d\\u00eda 200mg/kg seguido de 1 dosis de 10 mg/kg desde el segundo al d\\u00e9cimo d\\u00eda\",\"No especifica dosis\"],[\"2019: 1    2020: 787    2021: 840    2022: 354\",\"2020: 426    2021: 773    2022: 43\",\"2020: 1523    2021: 923    2022: 188\",\"2020: 161    2021: 131    2022: 28\",\"2020: 1019    2021: 1417    2022: 731\",\"2019: 3    2020: 170    2021: 136    2022: 38\"]]},\"header\":{\"values\":[\"Tipo de f\\u00e1rmaco\",\"F\\u00e1rmaco\",\"Acci\\u00f3n en la enfermedad COVID -19\",\"Dosis\",\"Referencia (publicaciones)\"]},\"type\":\"table\"}],                        {\"template\":{\"data\":{\"bar\":[{\"error_x\":{\"color\":\"#2a3f5f\"},\"error_y\":{\"color\":\"#2a3f5f\"},\"marker\":{\"line\":{\"color\":\"#E5ECF6\",\"width\":0.5},\"pattern\":{\"fillmode\":\"overlay\",\"size\":10,\"solidity\":0.2}},\"type\":\"bar\"}],\"barpolar\":[{\"marker\":{\"line\":{\"color\":\"#E5ECF6\",\"width\":0.5},\"pattern\":{\"fillmode\":\"overlay\",\"size\":10,\"solidity\":0.2}},\"type\":\"barpolar\"}],\"carpet\":[{\"aaxis\":{\"endlinecolor\":\"#2a3f5f\",\"gridcolor\":\"white\",\"linecolor\":\"white\",\"minorgridcolor\":\"white\",\"startlinecolor\":\"#2a3f5f\"},\"baxis\":{\"endlinecolor\":\"#2a3f5f\",\"gridcolor\":\"white\",\"linecolor\":\"white\",\"minorgridcolor\":\"white\",\"startlinecolor\":\"#2a3f5f\"},\"type\":\"carpet\"}],\"choropleth\":[{\"colorbar\":{\"outlinewidth\":0,\"ticks\":\"\"},\"type\":\"choropleth\"}],\"contour\":[{\"colorbar\":{\"outlinewidth\":0,\"ticks\":\"\"},\"colorscale\":[[0.0,\"#0d0887\"],[0.1111111111111111,\"#46039f\"],[0.2222222222222222,\"#7201a8\"],[0.3333333333333333,\"#9c179e\"],[0.4444444444444444,\"#bd3786\"],[0.5555555555555556,\"#d8576b\"],[0.6666666666666666,\"#ed7953\"],[0.7777777777777778,\"#fb9f3a\"],[0.8888888888888888,\"#fdca26\"],[1.0,\"#f0f921\"]],\"type\":\"contour\"}],\"contourcarpet\":[{\"colorbar\":{\"outlinewidth\":0,\"ticks\":\"\"},\"type\":\"contourcarpet\"}],\"heatmap\":[{\"colorbar\":{\"outlinewidth\":0,\"ticks\":\"\"},\"colorscale\":[[0.0,\"#0d0887\"],[0.1111111111111111,\"#46039f\"],[0.2222222222222222,\"#7201a8\"],[0.3333333333333333,\"#9c179e\"],[0.4444444444444444,\"#bd3786\"],[0.5555555555555556,\"#d8576b\"],[0.6666666666666666,\"#ed7953\"],[0.7777777777777778,\"#fb9f3a\"],[0.8888888888888888,\"#fdca26\"],[1.0,\"#f0f921\"]],\"type\":\"heatmap\"}],\"heatmapgl\":[{\"colorbar\":{\"outlinewidth\":0,\"ticks\":\"\"},\"colorscale\":[[0.0,\"#0d0887\"],[0.1111111111111111,\"#46039f\"],[0.2222222222222222,\"#7201a8\"],[0.3333333333333333,\"#9c179e\"],[0.4444444444444444,\"#bd3786\"],[0.5555555555555556,\"#d8576b\"],[0.6666666666666666,\"#ed7953\"],[0.7777777777777778,\"#fb9f3a\"],[0.8888888888888888,\"#fdca26\"],[1.0,\"#f0f921\"]],\"type\":\"heatmapgl\"}],\"histogram\":[{\"marker\":{\"pattern\":{\"fillmode\":\"overlay\",\"size\":10,\"solidity\":0.2}},\"type\":\"histogram\"}],\"histogram2d\":[{\"colorbar\":{\"outlinewidth\":0,\"ticks\":\"\"},\"colorscale\":[[0.0,\"#0d0887\"],[0.1111111111111111,\"#46039f\"],[0.2222222222222222,\"#7201a8\"],[0.3333333333333333,\"#9c179e\"],[0.4444444444444444,\"#bd3786\"],[0.5555555555555556,\"#d8576b\"],[0.6666666666666666,\"#ed7953\"],[0.7777777777777778,\"#fb9f3a\"],[0.8888888888888888,\"#fdca26\"],[1.0,\"#f0f921\"]],\"type\":\"histogram2d\"}],\"histogram2dcontour\":[{\"colorbar\":{\"outlinewidth\":0,\"ticks\":\"\"},\"colorscale\":[[0.0,\"#0d0887\"],[0.1111111111111111,\"#46039f\"],[0.2222222222222222,\"#7201a8\"],[0.3333333333333333,\"#9c179e\"],[0.4444444444444444,\"#bd3786\"],[0.5555555555555556,\"#d8576b\"],[0.6666666666666666,\"#ed7953\"],[0.7777777777777778,\"#fb9f3a\"],[0.8888888888888888,\"#fdca26\"],[1.0,\"#f0f921\"]],\"type\":\"histogram2dcontour\"}],\"mesh3d\":[{\"colorbar\":{\"outlinewidth\":0,\"ticks\":\"\"},\"type\":\"mesh3d\"}],\"parcoords\":[{\"line\":{\"colorbar\":{\"outlinewidth\":0,\"ticks\":\"\"}},\"type\":\"parcoords\"}],\"pie\":[{\"automargin\":true,\"type\":\"pie\"}],\"scatter\":[{\"marker\":{\"colorbar\":{\"outlinewidth\":0,\"ticks\":\"\"}},\"type\":\"scatter\"}],\"scatter3d\":[{\"line\":{\"colorbar\":{\"outlinewidth\":0,\"ticks\":\"\"}},\"marker\":{\"colorbar\":{\"outlinewidth\":0,\"ticks\":\"\"}},\"type\":\"scatter3d\"}],\"scattercarpet\":[{\"marker\":{\"colorbar\":{\"outlinewidth\":0,\"ticks\":\"\"}},\"type\":\"scattercarpet\"}],\"scattergeo\":[{\"marker\":{\"colorbar\":{\"outlinewidth\":0,\"ticks\":\"\"}},\"type\":\"scattergeo\"}],\"scattergl\":[{\"marker\":{\"colorbar\":{\"outlinewidth\":0,\"ticks\":\"\"}},\"type\":\"scattergl\"}],\"scattermapbox\":[{\"marker\":{\"colorbar\":{\"outlinewidth\":0,\"ticks\":\"\"}},\"type\":\"scattermapbox\"}],\"scatterpolar\":[{\"marker\":{\"colorbar\":{\"outlinewidth\":0,\"ticks\":\"\"}},\"type\":\"scatterpolar\"}],\"scatterpolargl\":[{\"marker\":{\"colorbar\":{\"outlinewidth\":0,\"ticks\":\"\"}},\"type\":\"scatterpolargl\"}],\"scatterternary\":[{\"marker\":{\"colorbar\":{\"outlinewidth\":0,\"ticks\":\"\"}},\"type\":\"scatterternary\"}],\"surface\":[{\"colorbar\":{\"outlinewidth\":0,\"ticks\":\"\"},\"colorscale\":[[0.0,\"#0d0887\"],[0.1111111111111111,\"#46039f\"],[0.2222222222222222,\"#7201a8\"],[0.3333333333333333,\"#9c179e\"],[0.4444444444444444,\"#bd3786\"],[0.5555555555555556,\"#d8576b\"],[0.6666666666666666,\"#ed7953\"],[0.7777777777777778,\"#fb9f3a\"],[0.8888888888888888,\"#fdca26\"],[1.0,\"#f0f921\"]],\"type\":\"surface\"}],\"table\":[{\"cells\":{\"fill\":{\"color\":\"#EBF0F8\"},\"line\":{\"color\":\"white\"}},\"header\":{\"fill\":{\"color\":\"#C8D4E3\"},\"line\":{\"color\":\"white\"}},\"type\":\"table\"}]},\"layout\":{\"annotationdefaults\":{\"arrowcolor\":\"#2a3f5f\",\"arrowhead\":0,\"arrowwidth\":1},\"autotypenumbers\":\"strict\",\"coloraxis\":{\"colorbar\":{\"outlinewidth\":0,\"ticks\":\"\"}},\"colorscale\":{\"diverging\":[[0,\"#8e0152\"],[0.1,\"#c51b7d\"],[0.2,\"#de77ae\"],[0.3,\"#f1b6da\"],[0.4,\"#fde0ef\"],[0.5,\"#f7f7f7\"],[0.6,\"#e6f5d0\"],[0.7,\"#b8e186\"],[0.8,\"#7fbc41\"],[0.9,\"#4d9221\"],[1,\"#276419\"]],\"sequential\":[[0.0,\"#0d0887\"],[0.1111111111111111,\"#46039f\"],[0.2222222222222222,\"#7201a8\"],[0.3333333333333333,\"#9c179e\"],[0.4444444444444444,\"#bd3786\"],[0.5555555555555556,\"#d8576b\"],[0.6666666666666666,\"#ed7953\"],[0.7777777777777778,\"#fb9f3a\"],[0.8888888888888888,\"#fdca26\"],[1.0,\"#f0f921\"]],\"sequentialminus\":[[0.0,\"#0d0887\"],[0.1111111111111111,\"#46039f\"],[0.2222222222222222,\"#7201a8\"],[0.3333333333333333,\"#9c179e\"],[0.4444444444444444,\"#bd3786\"],[0.5555555555555556,\"#d8576b\"],[0.6666666666666666,\"#ed7953\"],[0.7777777777777778,\"#fb9f3a\"],[0.8888888888888888,\"#fdca26\"],[1.0,\"#f0f921\"]]},\"colorway\":[\"#636efa\",\"#EF553B\",\"#00cc96\",\"#ab63fa\",\"#FFA15A\",\"#19d3f3\",\"#FF6692\",\"#B6E880\",\"#FF97FF\",\"#FECB52\"],\"font\":{\"color\":\"#2a3f5f\"},\"geo\":{\"bgcolor\":\"white\",\"lakecolor\":\"white\",\"landcolor\":\"#E5ECF6\",\"showlakes\":true,\"showland\":true,\"subunitcolor\":\"white\"},\"hoverlabel\":{\"align\":\"left\"},\"hovermode\":\"closest\",\"mapbox\":{\"style\":\"light\"},\"paper_bgcolor\":\"white\",\"plot_bgcolor\":\"#E5ECF6\",\"polar\":{\"angularaxis\":{\"gridcolor\":\"white\",\"linecolor\":\"white\",\"ticks\":\"\"},\"bgcolor\":\"#E5ECF6\",\"radialaxis\":{\"gridcolor\":\"white\",\"linecolor\":\"white\",\"ticks\":\"\"}},\"scene\":{\"xaxis\":{\"backgroundcolor\":\"#E5ECF6\",\"gridcolor\":\"white\",\"gridwidth\":2,\"linecolor\":\"white\",\"showbackground\":true,\"ticks\":\"\",\"zerolinecolor\":\"white\"},\"yaxis\":{\"backgroundcolor\":\"#E5ECF6\",\"gridcolor\":\"white\",\"gridwidth\":2,\"linecolor\":\"white\",\"showbackground\":true,\"ticks\":\"\",\"zerolinecolor\":\"white\"},\"zaxis\":{\"backgroundcolor\":\"#E5ECF6\",\"gridcolor\":\"white\",\"gridwidth\":2,\"linecolor\":\"white\",\"showbackground\":true,\"ticks\":\"\",\"zerolinecolor\":\"white\"}},\"shapedefaults\":{\"line\":{\"color\":\"#2a3f5f\"}},\"ternary\":{\"aaxis\":{\"gridcolor\":\"white\",\"linecolor\":\"white\",\"ticks\":\"\"},\"baxis\":{\"gridcolor\":\"white\",\"linecolor\":\"white\",\"ticks\":\"\"},\"bgcolor\":\"#E5ECF6\",\"caxis\":{\"gridcolor\":\"white\",\"linecolor\":\"white\",\"ticks\":\"\"}},\"title\":{\"x\":0.05},\"xaxis\":{\"automargin\":true,\"gridcolor\":\"white\",\"linecolor\":\"white\",\"ticks\":\"\",\"title\":{\"standoff\":15},\"zerolinecolor\":\"white\",\"zerolinewidth\":2},\"yaxis\":{\"automargin\":true,\"gridcolor\":\"white\",\"linecolor\":\"white\",\"ticks\":\"\",\"title\":{\"standoff\":15},\"zerolinecolor\":\"white\",\"zerolinewidth\":2}}},\"margin\":{\"r\":1,\"l\":2,\"t\":2,\"b\":2},\"height\":700,\"width\":1000},                        {\"responsive\": true}                    ).then(function(){\n",
       "                            \n",
       "var gd = document.getElementById('8851be24-792a-47f7-a7af-f7253678c536');\n",
       "var x = new MutationObserver(function (mutations, observer) {{\n",
       "        var display = window.getComputedStyle(gd).display;\n",
       "        if (!display || display === 'none') {{\n",
       "            console.log([gd, 'removed!']);\n",
       "            Plotly.purge(gd);\n",
       "            observer.disconnect();\n",
       "        }}\n",
       "}});\n",
       "\n",
       "// Listen for the removal of the full notebook cells\n",
       "var notebookContainer = gd.closest('#notebook-container');\n",
       "if (notebookContainer) {{\n",
       "    x.observe(notebookContainer, {childList: true});\n",
       "}}\n",
       "\n",
       "// Listen for the clearing of the current output cell\n",
       "var outputEl = gd.closest('.output');\n",
       "if (outputEl) {{\n",
       "    x.observe(outputEl, {childList: true});\n",
       "}}\n",
       "\n",
       "                        })                };                });            </script>        </div>"
      ]
     },
     "metadata": {},
     "output_type": "display_data"
    }
   ],
   "source": [
    "import plotly.graph_objects as go\n",
    " \n",
    "fig = go.Figure(data=[go.Table(header=dict(values=['Tipo de fármaco', 'Fármaco', 'Acción en la enfermedad COVID -19','Dosis','Referencia (publicaciones)']),\n",
    "                cells=dict(values=[['Regulador de la respuesta inmune / Inhibidor de la respuesto inflamatoria', ' Regulador de la respuesta inmune' , 'Modificadores del medio intracelular', 'Modificadores del medio intracelular', 'Inhibidores de ARN polimerasa viral', 'Inhibidores de ARN polimerasa viral'], ['Tocilizumab','Interferón 1','Cloroquina / hidroxicloroquina','Arbidol','Remdesivir','Ribavirina'], ['Inmunización pasiva neutralizante', 'Fosforilación de las transductores de señal y los activadores de la transcripción STAT1 y expresión de ISG', 'Aumento de pH del endosoma de SARS-CoV-2', 'Bloqueo de fusión viral por alteración de la proteína S (Spike) del SARS-CoV-2', 'Análogo del nucleótido que inhibe la ARN polimerasa viral', 'Análogo de nucleósido que inhibe la ARN polimerasa viral e inhibe la inosina monofosfato deshidrogenasa'], ['< 30 kg: 12 mg/kg/iv (diluir hasta 50 cc con SSF y administrar en 1 hora). >30 kg: 8 mg/kg/iv (diluir hasta 100 cc SSF y administrar en 1 h).  Dosis máx: 800 mg por infusión', 'Dosis: 250 microgramos administrados por vía subcutánea cada 48 h durante 14 días. En niños < 12 años: no se ha establecido seguridad y eficacia ; >12 años: para sus indicaciones, igual que en adultos', 'El fosfato de CQ se administra por vía oral a una dosis de 500 mg (300 mg para CQ, 200 mg para HCQ) para adultos, dos veces/día, durante no más de 10 días', '200mg cada 8h', '≤ 40 kg dosis de carga 1° día 5mg/kg seguido de 1 dosis de 2,5mg/Kg desde el segundo al décimo día. ≥ 40 kg dosis de carga 1° día 200mg/kg seguido de 1 dosis de 10 mg/kg desde el segundo al décimo día', 'No especifica dosis'], ['2019: 1    2020: 787    2021: 840    2022: 354', '2020: 426    2021: 773    2022: 43', '2020: 1523    2021: 923    2022: 188', '2020: 161    2021: 131    2022: 28', '2020: 1019    2021: 1417    2022: 731', '2019: 3    2020: 170    2021: 136    2022: 38']]))\n",
    "                    ])\n",
    "fig.update_layout(height=700, width=1000, margin=dict(r=1, l=2, t=2, b=2))\n",
    "fig.show()"
   ]
  },
  {
   "cell_type": "code",
   "execution_count": 7,
   "id": "8a25411c",
   "metadata": {},
   "outputs": [
    {
     "data": {
      "image/png": "[encoded data removed]",
      "text/plain": [
       "<Figure size 1080x576 with 1 Axes>"
      ]
     },
     "metadata": {
      "needs_background": "light"
     },
     "output_type": "display_data"
    }
   ],
   "source": [
    "import pandas as pd\n",
    "import matplotlib.pyplot as plt\n",
    "%matplotlib inline\n",
    "\n",
    "df = pd.read_csv(\"C:/PF_GBIG01/Farmacos_años.csv\", sep = \",\", index_col = 0)\n",
    "df.head()\n",
    "\n",
    "fig, ax = plt.subplots(figsize = (15, 8))\n",
    "\n",
    "ax.plot(df[\"Tocilizumab\"])\n",
    "ax.plot(df[\"Interferón 1\"])\n",
    "ax.plot(df[\"Cloroquina\"])\n",
    "ax.plot(df[\"Arbidol\"])\n",
    "ax.plot(df[\"Remdesivir\"])\n",
    "ax.plot(df[\"Ribavirina\"])\n",
    "ax.plot(df[\"Lopinavir\"])\n",
    "ax.plot(df[\"Teicoplanina\"])\n",
    "ax.plot(df[\"Sarilumab\"])\n",
    "ax.plot(df[\"Siltuximab\"])\n",
    "ax.plot(df[\"Anakinra\"])\n",
    "ax.plot(df[\"Favipiravir\"])\n",
    "ax.plot(df[\"Umifenovir\"])\n",
    "ax.plot(df[\"Interferón 2b\"])\n",
    "ax.plot(df[\"Corticoides metilprednisilon dexametasona\"])\n",
    "ax.plot(df[\"Baricitinib\"])\n",
    "\n",
    "ax.grid(linestyle = \"--\", alpha = 0.5)\n",
    "\n",
    "ax.spines[\"top\"].set_alpha(0.0)\n",
    "ax.spines[\"right\"].set_alpha(0.0)\n",
    "ax.spines[\"left\"].set_alpha(1)\n",
    "ax.spines[\"bottom\"].set_alpha(1)\n",
    "\n",
    "plt.title(\"Fármacos utilizados como tratamiento para covid-19 \")\n",
    "plt.xlabel(\"Año\")\n",
    "plt.ylabel(\"N° de publicaciones\") \n",
    "\n",
    "\n",
    "plt.show()"
   ]
  },
  {
   "cell_type": "code",
   "execution_count": 2,
   "id": "91413730",
   "metadata": {},
   "outputs": [
    {
     "name": "stdout",
     "output_type": "stream",
     "text": [
      "Requirement already satisfied: matplotlib-venn in c:\\users\\josue\\anaconda3\\lib\\site-packages (0.11.7)\n",
      "Requirement already satisfied: matplotlib in c:\\users\\josue\\anaconda3\\lib\\site-packages (from matplotlib-venn) (3.5.1)\n",
      "Requirement already satisfied: numpy in c:\\users\\josue\\anaconda3\\lib\\site-packages (from matplotlib-venn) (1.21.5)\n",
      "Requirement already satisfied: scipy in c:\\users\\josue\\anaconda3\\lib\\site-packages (from matplotlib-venn) (1.7.3)\n",
      "Requirement already satisfied: python-dateutil>=2.7 in c:\\users\\josue\\anaconda3\\lib\\site-packages (from matplotlib->matplotlib-venn) (2.8.2)\n",
      "Requirement already satisfied: pyparsing>=2.2.1 in c:\\users\\josue\\anaconda3\\lib\\site-packages (from matplotlib->matplotlib-venn) (3.0.4)\n",
      "Requirement already satisfied: kiwisolver>=1.0.1 in c:\\users\\josue\\anaconda3\\lib\\site-packages (from matplotlib->matplotlib-venn) (1.3.2)\n",
      "Requirement already satisfied: pillow>=6.2.0 in c:\\users\\josue\\anaconda3\\lib\\site-packages (from matplotlib->matplotlib-venn) (9.0.1)\n",
      "Requirement already satisfied: packaging>=20.0 in c:\\users\\josue\\anaconda3\\lib\\site-packages (from matplotlib->matplotlib-venn) (21.3)\n",
      "Requirement already satisfied: cycler>=0.10 in c:\\users\\josue\\anaconda3\\lib\\site-packages (from matplotlib->matplotlib-venn) (0.11.0)\n",
      "Requirement already satisfied: fonttools>=4.22.0 in c:\\users\\josue\\anaconda3\\lib\\site-packages (from matplotlib->matplotlib-venn) (4.25.0)\n",
      "Requirement already satisfied: six>=1.5 in c:\\users\\josue\\anaconda3\\lib\\site-packages (from python-dateutil>=2.7->matplotlib->matplotlib-venn) (1.16.0)\n"
     ]
    },
    {
     "data": {
      "text/plain": [
       "<function matplotlib.pyplot.title(label, fontdict=None, loc=None, pad=None, *, y=None, **kwargs)>"
      ]
     },
     "execution_count": 2,
     "metadata": {},
     "output_type": "execute_result"
    },
    {
     "data": {
      "image/png": "[encoded data removed]",
      "text/plain": [
       "<Figure size 432x288 with 1 Axes>"
      ]
     },
     "metadata": {},
     "output_type": "display_data"
    }
   ],
   "source": [
    "import pandas as pd\n",
    "import matplotlib.pyplot as plt\n",
    "!pip install matplotlib-venn\n",
    "\n",
    "SARSCOV_=pd.read_excel('drugSARSCov.xlsx')\n",
    "\n",
    "SARSCOV_2=pd.read_excel('drugSARSCov2.xlsx')\n",
    "\n",
    "#Se importa la libreria \n",
    "from matplotlib_venn import venn2\n",
    "#Se realiza el diagrama de venn utilizando la listas de datos obtenidas de la bibliografía \n",
    "EspecificDrugSARSCoV = SARSCOV_['drug']\n",
    "EspecificDrugSARSCoV_2 = SARSCOV_2['drug']\n",
    "venn2([set(EspecificDrugSARSCoV), set(EspecificDrugSARSCoV_2)], set_labels = ('SARS-specific drugs','COVID-19_specific_drugs'), set_colors=('green', 'blue'));\n",
    "plt.title('Relación_entre_medicamentos_SARSCoV_y_SARSCoV_2(Covid-19)')\n",
    "plt.title\n"
   ]
  },
  {
   "cell_type": "code",
   "execution_count": 2,
   "id": "7a3fe2bf",
   "metadata": {},
   "outputs": [],
   "source": [
    "import miningscience \n",
    "import miningscience as msc\n"
   ]
  },
  {
   "cell_type": "code",
   "execution_count": 8,
   "id": "5e097504",
   "metadata": {},
   "outputs": [
    {
     "name": "stdout",
     "output_type": "stream",
     "text": [
      "El numero de articulos es: 2313505\n"
     ]
    }
   ],
   "source": [
    "covid = msc.download_pubmed(\"drug repurposing covid-19\")\n",
    "print (\"El numero de articulos es:\", len(covid))"
   ]
  },
  {
   "cell_type": "code",
   "execution_count": 11,
   "id": "bea84ddb",
   "metadata": {},
   "outputs": [
    {
     "data": {
      "image/png": "[encoded data removed]",
      "text/plain": [
       "<Figure size 432x288 with 1 Axes>"
      ]
     },
     "metadata": {},
     "output_type": "display_data"
    }
   ],
   "source": [
    "# Escriba aquí su código para el ejercicio 3\n",
    "import matplotlib.pyplot as plt\n",
    "Covid = msc.science_plots (covid)\n",
    "with open (\"img/Covid.png\",\"w\") as png:\n",
    "    Covid"
   ]
  }
 ],
 "metadata": {
  "kernelspec": {
   "display_name": "Python 3 (ipykernel)",
   "language": "python",
   "name": "python3"
  },
  "language_info": {
   "codemirror_mode": {
    "name": "ipython",
    "version": 3
   },
   "file_extension": ".py",
   "mimetype": "text/x-python",
   "name": "python",
   "nbconvert_exporter": "python",
   "pygments_lexer": "ipython3",
   "version": "3.9.12"
  }
 },
 "nbformat": 4,
 "nbformat_minor": 5
}
